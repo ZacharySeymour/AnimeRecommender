{
 "cells": [
  {
   "cell_type": "code",
   "execution_count": 4,
   "id": "e27692b0",
   "metadata": {},
   "outputs": [
    {
     "name": "stdout",
     "output_type": "stream",
     "text": [
      "   anime_id                              name  \\\n",
      "0     32281                    Kimi no Na wa.   \n",
      "1      5114  Fullmetal Alchemist: Brotherhood   \n",
      "2     28977                          Gintama°   \n",
      "3      9253                       Steins;Gate   \n",
      "4      9969                     Gintama&#039;   \n",
      "\n",
      "                                               genre   type episodes  rating  \\\n",
      "0               Drama, Romance, School, Supernatural  Movie        1    9.37   \n",
      "1  Action, Adventure, Drama, Fantasy, Magic, Mili...     TV       64    9.26   \n",
      "2  Action, Comedy, Historical, Parody, Samurai, S...     TV       51    9.25   \n",
      "3                                   Sci-Fi, Thriller     TV       24    9.17   \n",
      "4  Action, Comedy, Historical, Parody, Samurai, S...     TV       51    9.16   \n",
      "\n",
      "   members  \n",
      "0   200630  \n",
      "1   793665  \n",
      "2   114262  \n",
      "3   673572  \n",
      "4   151266  \n"
     ]
    }
   ],
   "source": [
    "import pandas as pd\n",
    "from sklearn.feature_extraction.text import TfidfVectorizer\n",
    "from sklearn.metrics.pairwise import linear_kernel\n",
    "\n",
    "# Load the dataset\n",
    "data = pd.read_csv(\"anime.csv\")\n",
    "\n",
    "# Display the first few rows of the dataset\n",
    "print(data.head())"
   ]
  },
  {
   "cell_type": "code",
   "execution_count": 5,
   "id": "5331041f",
   "metadata": {},
   "outputs": [],
   "source": [
    "# Drop missing values\n",
    "data = data.dropna()\n",
    "\n",
    "# Convert genres into a list of strings\n",
    "data['genre'] = data['genre'].apply(lambda x: x.split(', '))\n"
   ]
  },
  {
   "cell_type": "code",
   "execution_count": 6,
   "id": "ace3d5c3",
   "metadata": {},
   "outputs": [],
   "source": [
    "def get_user_preferences():\n",
    "    print(\"Select your preferred anime categories (comma-separated):\")\n",
    "    categories = input().split(', ')\n",
    "    return categories"
   ]
  },
  {
   "cell_type": "code",
   "execution_count": 7,
   "id": "d4384e50",
   "metadata": {},
   "outputs": [],
   "source": [
    "#method for generating anime recommendation\n",
    "def recommend_anime(user_preferences, data):\n",
    "    tfidf_vectorizer = TfidfVectorizer()\n",
    "    tfidf_matrix = tfidf_vectorizer.fit_transform(data['genre'].apply(', '.join))\n",
    "\n",
    "    cosine_sim = linear_kernel(tfidf_matrix, tfidf_matrix)\n",
    "\n",
    "    # Get the indices of the user's preferred categories\n",
    "    indices = data.index[data['genre'].apply(lambda x: any(pref in x for pref in user_preferences))]\n",
    "\n",
    "    # Calculate the average ratings for selected genres\n",
    "    selected_anime = data.loc[indices]\n",
    "    selected_anime = selected_anime.groupby('name').agg({'rating': 'mean'})\n",
    "\n",
    "    # Recommend anime based on average rating\n",
    "    recommended_anime = selected_anime.sort_values(by=['rating'], ascending=[False])\n",
    "\n",
    "    return recommended_anime.head(10)\n"
   ]
  },
  {
   "cell_type": "code",
   "execution_count": 8,
   "id": "0dcd1437",
   "metadata": {},
   "outputs": [
    {
     "name": "stdout",
     "output_type": "stream",
     "text": [
      "Select your preferred anime categories (comma-separated):\n",
      "Action\n",
      "\n",
      "Recommended Anime:\n",
      "                                                    rating\n",
      "name                                                      \n",
      "Fullmetal Alchemist: Brotherhood                      9.26\n",
      "Gintama°                                              9.25\n",
      "Gintama&#039;                                         9.16\n",
      "Hunter x Hunter (2011)                                9.13\n",
      "Gintama&#039;: Enchousen                              9.11\n",
      "Gintama Movie: Kanketsu-hen - Yorozuya yo Eien ...    9.10\n",
      "Gintama                                               9.04\n",
      "Code Geass: Hangyaku no Lelouch R2                    8.98\n",
      "Code Geass: Hangyaku no Lelouch                       8.83\n",
      "Rurouni Kenshin: Meiji Kenkaku Romantan - Tsuio...    8.83\n"
     ]
    }
   ],
   "source": [
    "#take user input for recommended anime category\n",
    "user_preferences = get_user_preferences()\n",
    "recommendations = recommend_anime(user_preferences, data)\n",
    "#print out the top 10 recommendations depending on user input\n",
    "print(\"\\nRecommended Anime:\")\n",
    "print(recommendations)"
   ]
  },
  {
   "cell_type": "code",
   "execution_count": null,
   "id": "4f61cd3e",
   "metadata": {},
   "outputs": [],
   "source": []
  }
 ],
 "metadata": {
  "kernelspec": {
   "display_name": "Python 3 (ipykernel)",
   "language": "python",
   "name": "python3"
  },
  "language_info": {
   "codemirror_mode": {
    "name": "ipython",
    "version": 3
   },
   "file_extension": ".py",
   "mimetype": "text/x-python",
   "name": "python",
   "nbconvert_exporter": "python",
   "pygments_lexer": "ipython3",
   "version": "3.9.7"
  }
 },
 "nbformat": 4,
 "nbformat_minor": 5
}
